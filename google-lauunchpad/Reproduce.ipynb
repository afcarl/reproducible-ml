{
 "cells": [
  {
   "cell_type": "markdown",
   "metadata": {},
   "source": [
    "# Pre-requisites\n",
    "\n",
    "1. [Install conda or miniconda](https://conda.io/docs/user-guide/install/index.html)\n",
    "\n",
    "2. Create an environment\n",
    "```\n",
    "$ conda create -n ENV_NAME python=3.6\n",
    "$ source activate ENV_NAME\n",
    "# check your work - paths should be in ENV_NAME\n",
    "$ which jupyter\n",
    "...\n",
    "$ which ipython\n",
    "...\n",
    "```\n",
    "\n",
    "3. Install deps\n",
    "```\n",
    "$ pip install quilt # data package manager\n",
    "$ conda install scikit-learn # handles numpy scipy\n",
    "```\n",
    "\n",
    "3. Install data, tag \"original\"\n",
    "```\n",
    "$ quilt install akarve/pydata_book/titanic:original\n",
    "```\n",
    "\n",
    "3. Fire up Jupyter\n",
    "```\n",
    "jupyter notebook\n",
    "```\n",
    "In the JupyterHub UI: `New > Python3`"
   ]
  },
  {
   "cell_type": "markdown",
   "metadata": {},
   "source": [
    "# Acquire raw training data\n",
    "[How to build your own data package](https://docs.quiltdata.com/make-a-package.html)"
   ]
  },
  {
   "cell_type": "code",
   "execution_count": null,
   "metadata": {},
   "outputs": [],
   "source": [
    "import quilt\n",
    "quilt.install(\"akarve/pydata_book/titanic\", tag=\"original\", force=True)"
   ]
  },
  {
   "cell_type": "code",
   "execution_count": null,
   "metadata": {},
   "outputs": [],
   "source": [
    "from quilt.data.akarve import pydata_book as pb\n",
    "pb.titanic"
   ]
  },
  {
   "cell_type": "markdown",
   "metadata": {},
   "source": [
    "# Feature engineering"
   ]
  },
  {
   "cell_type": "code",
   "execution_count": null,
   "metadata": {},
   "outputs": [],
   "source": [
    "train = pb.titanic.train()\n",
    "test = pb.titanic.test()"
   ]
  },
  {
   "cell_type": "code",
   "execution_count": null,
   "metadata": {},
   "outputs": [],
   "source": [
    "# check for nulls\n",
    "train.isnull().sum()"
   ]
  },
  {
   "cell_type": "code",
   "execution_count": null,
   "metadata": {},
   "outputs": [],
   "source": [
    "test.isnull().sum()"
   ]
  },
  {
   "cell_type": "code",
   "execution_count": null,
   "metadata": {},
   "outputs": [],
   "source": [
    "test['IsMale'] = (test['Sex'] == 'male').astype(int)\n",
    "train['IsMale'] = (train['Sex'] == 'male').astype(int)\n",
    "test['NumRelatives'] = test['SibSp'] + test['Parch']\n",
    "train['NumRelatives'] = train['SibSp'] + train['Parch']\n",
    "features = ['Pclass', 'IsMale', 'Age', 'NumRelatives']"
   ]
  },
  {
   "cell_type": "code",
   "execution_count": null,
   "metadata": {},
   "outputs": [],
   "source": [
    "# imputation\n",
    "age_median = train['Age'].median()\n",
    "age_mean = train['Age'].mean()"
   ]
  },
  {
   "cell_type": "code",
   "execution_count": null,
   "metadata": {},
   "outputs": [],
   "source": [
    "age_mean"
   ]
  },
  {
   "cell_type": "code",
   "execution_count": null,
   "metadata": {},
   "outputs": [],
   "source": [
    "train['AgeImputeMean'] = train['Age'].fillna(age_mean)\n",
    "test['AgeImputeMean'] = test['Age'].fillna(age_mean)"
   ]
  },
  {
   "cell_type": "code",
   "execution_count": null,
   "metadata": {},
   "outputs": [],
   "source": [
    "import pandas as pd\n",
    "# select four features we care about\n",
    "features = ['Pclass', 'IsMale', 'NumRelatives', 'AgeImputeMean']\n",
    "# store updated data\n",
    "pb._set(['titanic', 'features'], pd.DataFrame([features]))"
   ]
  },
  {
   "cell_type": "code",
   "execution_count": null,
   "metadata": {},
   "outputs": [],
   "source": [
    "quilt.build(\"USER/PKG\", pb)\n",
    "# send the latest to quilt\n",
    "# quilt.push(\"USER/PKG\")"
   ]
  },
  {
   "cell_type": "markdown",
   "metadata": {},
   "source": [
    "# Training"
   ]
  },
  {
   "cell_type": "code",
   "execution_count": null,
   "metadata": {},
   "outputs": [],
   "source": [
    "features = pb.titanic.features()\n",
    "train = pb.titanic.train()\n",
    "trainsub = train[features.values[0]]"
   ]
  },
  {
   "cell_type": "code",
   "execution_count": null,
   "metadata": {},
   "outputs": [],
   "source": [
    "trainvecs = trainsub.values\n",
    "trainlabels = train['Survived'].values"
   ]
  },
  {
   "cell_type": "markdown",
   "metadata": {},
   "source": [
    "## train"
   ]
  },
  {
   "cell_type": "code",
   "execution_count": null,
   "metadata": {},
   "outputs": [],
   "source": [
    "from sklearn.model_selection import cross_val_score as cvs\n",
    "from sklearn.ensemble import RandomForestClassifier\n",
    "\n",
    "rfc = RandomForestClassifier(max_depth=3, random_state=0)\n",
    "#rfc.fit(trainvecs, trainlabels)\n",
    "scores = cvs(rfc, trainvecs, trainlabels, cv=5)\n",
    "scores.mean()"
   ]
  },
  {
   "cell_type": "markdown",
   "metadata": {},
   "source": [
    "## serialize"
   ]
  },
  {
   "cell_type": "code",
   "execution_count": null,
   "metadata": {},
   "outputs": [],
   "source": [
    "from sklearn.externals import joblib\n",
    "joblib.dump(rfc, 'rfc.pkl') "
   ]
  },
  {
   "cell_type": "markdown",
   "metadata": {},
   "source": [
    "## load (and infer)"
   ]
  },
  {
   "cell_type": "code",
   "execution_count": null,
   "metadata": {},
   "outputs": [],
   "source": [
    "from sklearn.externals import joblib\n",
    "model = joblib.load(\"rfc.pkl\")\n",
    "cvs(model, trainvecs, trainlabels, cv=5).mean()"
   ]
  },
  {
   "cell_type": "markdown",
   "metadata": {},
   "source": [
    "# Data package construction"
   ]
  },
  {
   "cell_type": "code",
   "execution_count": null,
   "metadata": {},
   "outputs": [],
   "source": []
  }
 ],
 "metadata": {
  "kernelspec": {
   "display_name": "Python 3",
   "language": "python",
   "name": "python3"
  },
  "language_info": {
   "codemirror_mode": {
    "name": "ipython",
    "version": 3
   },
   "file_extension": ".py",
   "mimetype": "text/x-python",
   "name": "python",
   "nbconvert_exporter": "python",
   "pygments_lexer": "ipython3",
   "version": "3.6.3"
  }
 },
 "nbformat": 4,
 "nbformat_minor": 2
}
