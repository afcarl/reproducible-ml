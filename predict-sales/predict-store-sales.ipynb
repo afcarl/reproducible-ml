{
 "cells": [
  {
   "cell_type": "code",
   "execution_count": 1,
   "metadata": {},
   "outputs": [],
   "source": [
    "# Rossman store sales example\n",
    "#   data from https://www.kaggle.com/c/rossmann-store-sales/data\n",
    "#   code from https://github.com/vidyasagarv/predict-sales\n",
    "import pandas as pd\n",
    "import numpy as np\n",
    "from sklearn.ensemble import RandomForestRegressor\n",
    "from salesdata import process_data"
   ]
  },
  {
   "cell_type": "code",
   "execution_count": 27,
   "metadata": {},
   "outputs": [
    {
     "name": "stdout",
     "output_type": "stream",
     "text": [
      "training data loaded: 1017209 records for 1115 stores\n"
     ]
    }
   ],
   "source": [
    "# Load data\n",
    "store = pd.read_csv('./input/store.csv')\n",
    "data = pd.read_csv('./input/train.csv', parse_dates = ['Date'], dtype={'StateHoliday': str})\n",
    "print('training data loaded: {} records for {} stores'.format(len(data), len(store)))"
   ]
  },
  {
   "cell_type": "code",
   "execution_count": 28,
   "metadata": {
    "scrolled": true
   },
   "outputs": [
    {
     "name": "stdout",
     "output_type": "stream",
     "text": [
      "training data processed: 844392 records\n"
     ]
    }
   ],
   "source": [
    "data = process_data(data, store)\n",
    "X_train = data.drop(['Sales', 'Customers'], axis = 1)\n",
    "y_train = data.Sales\n",
    "print('training data processed: {} records'.format(len(data)))"
   ]
  },
  {
   "cell_type": "code",
   "execution_count": 29,
   "metadata": {},
   "outputs": [
    {
     "name": "stdout",
     "output_type": "stream",
     "text": [
      "model fit\n"
     ]
    }
   ],
   "source": [
    "# Fit random forest model\n",
    "rf = RandomForestRegressor(n_jobs = -1, n_estimators = 15)\n",
    "rf.fit(X_train, y_train)\n",
    "print('model fit')"
   ]
  },
  {
   "cell_type": "code",
   "execution_count": 30,
   "metadata": {},
   "outputs": [
    {
     "name": "stdout",
     "output_type": "stream",
     "text": [
      "test data loaded and processed\n"
     ]
    }
   ],
   "source": [
    "# Load and process test data\n",
    "test = pd.read_csv('./input/test.csv', parse_dates = ['Date'])\n",
    "test = process_data(test, store)\n",
    "# Ensure same columns in test data as training\n",
    "for col in data.columns:\n",
    "    if col not in test.columns:\n",
    "        test[col] = np.zeros(test.shape[0])\n",
    "\n",
    "test = test.sort_index(axis=1).set_index('Id')\n",
    "print('test data loaded and processed')"
   ]
  },
  {
   "cell_type": "code",
   "execution_count": 32,
   "metadata": {},
   "outputs": [],
   "source": [
    "# Make predictions\n",
    "X_test = test.drop(['Sales', 'Customers'], axis=1).values\n",
    "y_test = rf.predict(X_test)"
   ]
  },
  {
   "cell_type": "code",
   "execution_count": 34,
   "metadata": {},
   "outputs": [
    {
     "data": {
      "text/html": [
       "<div>\n",
       "<style scoped>\n",
       "    .dataframe tbody tr th:only-of-type {\n",
       "        vertical-align: middle;\n",
       "    }\n",
       "\n",
       "    .dataframe tbody tr th {\n",
       "        vertical-align: top;\n",
       "    }\n",
       "\n",
       "    .dataframe thead th {\n",
       "        text-align: right;\n",
       "    }\n",
       "</style>\n",
       "<table border=\"1\" class=\"dataframe\">\n",
       "  <thead>\n",
       "    <tr style=\"text-align: right;\">\n",
       "      <th></th>\n",
       "      <th>Sales</th>\n",
       "    </tr>\n",
       "    <tr>\n",
       "      <th>Id</th>\n",
       "      <th></th>\n",
       "    </tr>\n",
       "  </thead>\n",
       "  <tbody>\n",
       "    <tr>\n",
       "      <th>1</th>\n",
       "      <td>4621.933333</td>\n",
       "    </tr>\n",
       "    <tr>\n",
       "      <th>2</th>\n",
       "      <td>8026.866667</td>\n",
       "    </tr>\n",
       "    <tr>\n",
       "      <th>3</th>\n",
       "      <td>10270.133333</td>\n",
       "    </tr>\n",
       "    <tr>\n",
       "      <th>4</th>\n",
       "      <td>8568.533333</td>\n",
       "    </tr>\n",
       "    <tr>\n",
       "      <th>5</th>\n",
       "      <td>7752.333333</td>\n",
       "    </tr>\n",
       "    <tr>\n",
       "      <th>6</th>\n",
       "      <td>6364.000000</td>\n",
       "    </tr>\n",
       "    <tr>\n",
       "      <th>7</th>\n",
       "      <td>7352.266667</td>\n",
       "    </tr>\n",
       "    <tr>\n",
       "      <th>8</th>\n",
       "      <td>7728.866667</td>\n",
       "    </tr>\n",
       "    <tr>\n",
       "      <th>9</th>\n",
       "      <td>5192.400000</td>\n",
       "    </tr>\n",
       "    <tr>\n",
       "      <th>10</th>\n",
       "      <td>5994.666667</td>\n",
       "    </tr>\n",
       "  </tbody>\n",
       "</table>\n",
       "</div>"
      ],
      "text/plain": [
       "           Sales\n",
       "Id              \n",
       "1    4621.933333\n",
       "2    8026.866667\n",
       "3   10270.133333\n",
       "4    8568.533333\n",
       "5    7752.333333\n",
       "6    6364.000000\n",
       "7    7352.266667\n",
       "8    7728.866667\n",
       "9    5192.400000\n",
       "10   5994.666667"
      ]
     },
     "execution_count": 34,
     "metadata": {},
     "output_type": "execute_result"
    }
   ],
   "source": [
    "# display output - Id is \n",
    "result = pd.DataFrame({'Id': test.index.values, 'Sales': y_test}).set_index('Id')\n",
    "result = result.sort_index()\n",
    "result[0:10]"
   ]
  },
  {
   "cell_type": "code",
   "execution_count": null,
   "metadata": {},
   "outputs": [],
   "source": []
  }
 ],
 "metadata": {
  "kernelspec": {
   "display_name": "Python 3",
   "language": "python",
   "name": "python3"
  },
  "language_info": {
   "codemirror_mode": {
    "name": "ipython",
    "version": 3
   },
   "file_extension": ".py",
   "mimetype": "text/x-python",
   "name": "python",
   "nbconvert_exporter": "python",
   "pygments_lexer": "ipython3",
   "version": "3.6.3"
  }
 },
 "nbformat": 4,
 "nbformat_minor": 2
}
