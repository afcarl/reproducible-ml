{
 "cells": [
  {
   "cell_type": "code",
   "execution_count": 10,
   "metadata": {},
   "outputs": [],
   "source": [
    "# Rossman store sales example\n",
    "#   data from https://www.kaggle.com/c/rossmann-store-sales/data\n",
    "#   code from https://github.com/vidyasagarv/predict-sales\n",
    "import pandas as pd\n",
    "import numpy as np\n",
    "from sklearn.ensemble import RandomForestRegressor\n",
    "import sys; sys.path.append('predict-sales') # in case jupyter run from directory above\n",
    "from salesdata import process_data"
   ]
  },
  {
   "cell_type": "code",
   "execution_count": 11,
   "metadata": {},
   "outputs": [],
   "source": [
    "from quilt.data.examples import prophet as pdata"
   ]
  },
  {
   "cell_type": "code",
   "execution_count": 12,
   "metadata": {
    "scrolled": true
   },
   "outputs": [
    {
     "name": "stdout",
     "output_type": "stream",
     "text": [
      "training data loaded: 1014979 records for 1115 stores\n",
      "training data processed: 842166 records\n"
     ]
    }
   ],
   "source": [
    "# Load data\n",
    "store = pdata.rossman_store_sales.store()\n",
    "train = pdata.rossman_store_sales.train()\n",
    "print('training data loaded: {} records for {} stores'.format(len(train), len(store)))\n",
    "train = process_data(train, store)\n",
    "X_train = train.drop(['Sales', 'Customers'], axis = 1)\n",
    "y_train = train.Sales\n",
    "print('training data processed: {} records'.format(len(train)))"
   ]
  },
  {
   "cell_type": "code",
   "execution_count": 13,
   "metadata": {},
   "outputs": [
    {
     "name": "stdout",
     "output_type": "stream",
     "text": [
      "model fit\n"
     ]
    }
   ],
   "source": [
    "# Fit random forest model\n",
    "rf = RandomForestRegressor(n_jobs = -1, n_estimators = 15)\n",
    "rf.fit(X_train, y_train)\n",
    "print('model fit')"
   ]
  },
  {
   "cell_type": "code",
   "execution_count": 15,
   "metadata": {},
   "outputs": [
    {
     "name": "stdout",
     "output_type": "stream",
     "text": [
      "test data loaded and processed\n"
     ]
    }
   ],
   "source": [
    "# Load and process test data\n",
    "test = pdata.rossman_store_sales.test()\n",
    "test = process_data(test, store)\n",
    "# Ensure same columns in test data as training\n",
    "for col in train.columns:\n",
    "    if col not in test.columns:\n",
    "        test[col] = np.zeros(test.shape[0])\n",
    "\n",
    "test = test.sort_index(axis=1).set_index('Id')\n",
    "print('test data loaded and processed')"
   ]
  },
  {
   "cell_type": "code",
   "execution_count": 16,
   "metadata": {},
   "outputs": [],
   "source": [
    "# Make predictions\n",
    "X_test = test.drop(['Sales', 'Customers'], axis=1).values\n",
    "y_test = rf.predict(X_test)"
   ]
  },
  {
   "cell_type": "code",
   "execution_count": 17,
   "metadata": {},
   "outputs": [
    {
     "data": {
      "text/html": [
       "<div>\n",
       "<style scoped>\n",
       "    .dataframe tbody tr th:only-of-type {\n",
       "        vertical-align: middle;\n",
       "    }\n",
       "\n",
       "    .dataframe tbody tr th {\n",
       "        vertical-align: top;\n",
       "    }\n",
       "\n",
       "    .dataframe thead th {\n",
       "        text-align: right;\n",
       "    }\n",
       "</style>\n",
       "<table border=\"1\" class=\"dataframe\">\n",
       "  <thead>\n",
       "    <tr style=\"text-align: right;\">\n",
       "      <th></th>\n",
       "      <th>Sales</th>\n",
       "    </tr>\n",
       "    <tr>\n",
       "      <th>Id</th>\n",
       "      <th></th>\n",
       "    </tr>\n",
       "  </thead>\n",
       "  <tbody>\n",
       "    <tr>\n",
       "      <th>1</th>\n",
       "      <td>4592.733333</td>\n",
       "    </tr>\n",
       "    <tr>\n",
       "      <th>2</th>\n",
       "      <td>7925.666667</td>\n",
       "    </tr>\n",
       "    <tr>\n",
       "      <th>3</th>\n",
       "      <td>9899.800000</td>\n",
       "    </tr>\n",
       "    <tr>\n",
       "      <th>4</th>\n",
       "      <td>8348.200000</td>\n",
       "    </tr>\n",
       "    <tr>\n",
       "      <th>5</th>\n",
       "      <td>8015.066667</td>\n",
       "    </tr>\n",
       "    <tr>\n",
       "      <th>6</th>\n",
       "      <td>6192.733333</td>\n",
       "    </tr>\n",
       "    <tr>\n",
       "      <th>7</th>\n",
       "      <td>7819.800000</td>\n",
       "    </tr>\n",
       "    <tr>\n",
       "      <th>8</th>\n",
       "      <td>7562.666667</td>\n",
       "    </tr>\n",
       "    <tr>\n",
       "      <th>9</th>\n",
       "      <td>5103.333333</td>\n",
       "    </tr>\n",
       "    <tr>\n",
       "      <th>10</th>\n",
       "      <td>5959.933333</td>\n",
       "    </tr>\n",
       "  </tbody>\n",
       "</table>\n",
       "</div>"
      ],
      "text/plain": [
       "          Sales\n",
       "Id             \n",
       "1   4592.733333\n",
       "2   7925.666667\n",
       "3   9899.800000\n",
       "4   8348.200000\n",
       "5   8015.066667\n",
       "6   6192.733333\n",
       "7   7819.800000\n",
       "8   7562.666667\n",
       "9   5103.333333\n",
       "10  5959.933333"
      ]
     },
     "execution_count": 17,
     "metadata": {},
     "output_type": "execute_result"
    }
   ],
   "source": [
    "# display output - Id is \n",
    "result = pd.DataFrame({'Id': test.index.values, 'Sales': y_test}).set_index('Id')\n",
    "result = result.sort_index()\n",
    "result[0:10]"
   ]
  },
  {
   "cell_type": "code",
   "execution_count": null,
   "metadata": {},
   "outputs": [],
   "source": []
  }
 ],
 "metadata": {
  "kernelspec": {
   "display_name": "Python 3",
   "language": "python",
   "name": "python3"
  },
  "language_info": {
   "codemirror_mode": {
    "name": "ipython",
    "version": 3
   },
   "file_extension": ".py",
   "mimetype": "text/x-python",
   "name": "python",
   "nbconvert_exporter": "python",
   "pygments_lexer": "ipython3",
   "version": "3.6.3"
  }
 },
 "nbformat": 4,
 "nbformat_minor": 2
}
