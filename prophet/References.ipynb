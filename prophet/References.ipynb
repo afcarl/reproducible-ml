{
 "cells": [
  {
   "cell_type": "markdown",
   "metadata": {},
   "source": [
    "# Facebook Prophet\n",
    "* [Docs for R and Python](https://facebook.github.io/prophet/docs/installation.html)\n",
    "* [Paper](https://peerj.com/preprints/3190.pdf)"
   ]
  },
  {
   "cell_type": "markdown",
   "metadata": {},
   "source": [
    "## Abstract\n",
    "Forecasting is a common data science task that helps organizations with capacity\n",
    "planning, goal setting, and anomaly detection. Despite its importance, there are\n",
    "serious challenges associated with producing reliable and high quality forecasts –\n",
    "especially when there are a variety of time series and analysts with expertise in\n",
    "time series modeling are relatively rare. To address these challenges, we describe\n",
    "a practical approach to forecasting “at scale” that combines configurable models\n",
    "with analyst-in-the-loop performance analysis. We propose a modular regression\n",
    "model with interpretable parameters that can be intuitively adjusted by analysts\n",
    "with domain knowledge about the time series. We describe performance analyses\n",
    "to compare and evaluate forecasting procedures, and automatically flag forecasts for\n",
    "manual review and adjustment. Tools that help analysts to use their expertise most\n",
    "effectively enable reliable, practical forecasting of business time series."
   ]
  },
  {
   "cell_type": "markdown",
   "metadata": {},
   "source": [
    "# ML Applied to Trading\n",
    "https://medium.com/auquan/https-medium-com-auquan-machine-learning-techniques-trading-b7120cee4f05\n",
    "    \n",
    "DIRECTION: identify if an asset is cheap/expensive/fair value\n",
    "ENTRY TRADE: if an asset is cheap/expensive, should you buy/sell it\n",
    "EXIT TRADE: if an asset is fair priced and if we hold a position in that asset(bought or sold it earlier), should you exit that position\n",
    "PRICE RANGE: which price (or range) to make this trade at\n",
    "QUANTITY: Amount of capital to trade(example shares of a stock)"
   ]
  },
  {
   "cell_type": "markdown",
   "metadata": {},
   "source": [
    "http://www.newsweek.com/business-technology-trading-684303\n",
    "\n",
    "## ML (Q-Learning) able to arbitrage known advantage\n",
    "\n",
    "\n",
    "Ritter explained: \"I was really trying to answer the question, does machine learning have any application to trading at all, or no application; sort of a binary question. Can machine learning be applied to the problem of trading?\n",
    "\n",
    "\"I reasoned that in a system that I know admits a profitable trading strategy, because I constructed it that way, can the machine find it. If the answer to that is no, then what chance would it have in the real world where you don't even necessarily know that a profitable strategy exists in the space you are looking at.\n",
    "\n",
    "\"So luckily the answer to that was yes. In the system where I knew there was a profitable opportunity, the machine did learn to find it. So that then allows for further study.\"\n",
    "\n",
    "A question on many people's lips when it comes to machine learning and AI-driven automation concerns the role that will be left for humans.\n",
    "\n",
    "Ritter takes a sober view of this: \"I think it's important to know what human beings are good at and what they are not good at. So human beings are typically not good at knowing what their true costs are.\n",
    "\n",
    "\"For example, we all know that doing a large trade or a trade that's a large fraction of the volume can have an impact in the market; you'll move the price as a result of your trading. Well, how much?\n",
    "\n",
    "\"Humans are not really good at answering that question. That's a better question for a mathematical model. So we sometimes get asked the question, does this mean humans are done? I think the answer to that is definitely not.\n",
    "\n",
    "\"Humans are probably good at coming up with the idea for a new strategy. Take the technology in my paper, for example: where should we apply it? What should we apply it to? What should the signal that drives the trade be, if any?\n",
    "\n",
    "\"But humans are not good at interacting with the microstructure; humans are not good at looking at a bid and an offer and saying, I think if I execute this many basis points here's what my impact will be. That kind of decision should be left to a machine really.\"\n",
    "\n",
    "\n",
    "https://papers.ssrn.com/sol3/papers.cfm?abstract_id=3015609\n",
    "\n",
    "## Abstract\n",
    "\n",
    "Abstract. In multi-period trading with realistic market impact, determining\n",
    "the dynamic trading strategy that optimizes expected utility\n",
    "of final wealth is a hard problem. In this paper we show that, with an\n",
    "appropriate choice of the reward function, reinforcement learning techniques\n",
    "(specifically, Q-learning) can successfully handle the risk-averse\n",
    "case. We provide a proof of concept in the form of a simulated market\n",
    "which permits a statistical arbitrage even with trading costs. The\n",
    "Q-learning agent finds and exploits this arbitrage.\n",
    "\n",
    "## Conclusion\n",
    "According to neoclassical finance theory, no investor should hold a portfolio\n",
    "(or follow a dynamic trading strategy) that does not maximize expected\n",
    "utility of final wealth, E[u(wT )]. The concave utility function u expresses the\n",
    "investor’s risk aversion, or preference for a less risky portfolio over a more\n",
    "risky one with the same expected return. Only a risk-neutral investor would\n",
    "maximize E[wT ]. The main contribution of this paper is that we show how\n",
    "to handle the risk-averse case in a model-free way using Q-learning. We provide\n",
    "a proof of concept in a controlled numerical simulation which permits\n",
    "an approximate arbitrage, and we verify that the Q-learning agent finds and\n",
    "exploits this arbitrage.\n",
    "It is instructive to consider how this differs from approaches such as\n",
    "Gˆarleanu and Pedersen (2013); to use their approach in practice requires\n",
    "three models: a model of expected returns, a risk model which forecasts\n",
    "the variance, and a (pre-trade) transaction cost model. The methods of\n",
    "Gˆarleanu and Pedersen (2013) provide an explicit solution only when the\n",
    "cost model is quadratic. By contrast, the methods of the present paper can,\n",
    "in principle, be applied without directly estimating any of these three models,\n",
    "or they can be applied in cases where one has an asset return model,\n",
    "but one wishes to use machine learning techniques to infer the cost function\n",
    "and the optimal strategy."
   ]
  },
  {
   "cell_type": "markdown",
   "metadata": {},
   "source": [
    "https://medium.com/machine-learning-world/neural-networks-for-algorithmic-trading-enhancing-classic-strategies-a517f43109bf\n",
    "\n",
    "Use NNs to improve EMA crossover signal quality"
   ]
  },
  {
   "cell_type": "markdown",
   "metadata": {},
   "source": [
    "# TF / DNNs for financial time series\n",
    "https://cloud.google.com/solutions/machine-learning-with-financial-time-series-data\n",
    "\n",
    "Model SP500 closes based on markets that close earlier\n",
    "\n"
   ]
  },
  {
   "cell_type": "code",
   "execution_count": null,
   "metadata": {},
   "outputs": [],
   "source": [
    "# Inductive Bias\n",
    "http://www.lauradhamilton.com/inductive-biases-various-machine-learning-algorithms"
   ]
  }
 ],
 "metadata": {
  "kernelspec": {
   "display_name": "Python 3",
   "language": "python",
   "name": "python3"
  },
  "language_info": {
   "codemirror_mode": {
    "name": "ipython",
    "version": 3
   },
   "file_extension": ".py",
   "mimetype": "text/x-python",
   "name": "python",
   "nbconvert_exporter": "python",
   "pygments_lexer": "ipython3",
   "version": "3.6.3"
  }
 },
 "nbformat": 4,
 "nbformat_minor": 2
}
