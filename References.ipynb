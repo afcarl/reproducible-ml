{
 "cells": [
  {
   "cell_type": "markdown",
   "metadata": {},
   "source": [
    "# [DLPA17] [Deep Learning: A Practitioner's Approach](https://www.amazon.com/Deep-Learning-Practitioners-Josh-Patterson/dp/1491914254)\n",
    "\n",
    "* Practical; good intro to ML theory\n",
    "* Not *really* NN specific; if you understand one classifier deeply, it's easier to pick up others"
   ]
  },
  {
   "cell_type": "markdown",
   "metadata": {},
   "source": [
    "# [ML97] [Machine Learning](https://www.amazon.com/Learning-McGraw-Hill-International-Editions-Computer/dp/0071154671/)\n",
    "* Tom Mitchell's classic; academic focus"
   ]
  },
  {
   "cell_type": "markdown",
   "metadata": {},
   "source": [
    "# [FBP17] [Facebook Prophet](https://peerj.com/preprints/3190.pdf)\n",
    "* [Docs for R and Python](https://facebook.github.io/prophet/docs/installation.html)\n",
    "\n",
    "## Abstract\n",
    "Forecasting is a common data science task that helps organizations with capacity\n",
    "planning, goal setting, and anomaly detection. Despite its importance, there are\n",
    "serious challenges associated with producing reliable and high quality forecasts –\n",
    "especially when there are a variety of time series and analysts with expertise in\n",
    "time series modeling are relatively rare. To address these challenges, we describe\n",
    "a practical approach to forecasting “at scale” that combines configurable models\n",
    "with analyst-in-the-loop performance analysis. We propose a modular regression\n",
    "model with interpretable parameters that can be intuitively adjusted by analysts\n",
    "with domain knowledge about the time series. We describe performance analyses\n",
    "to compare and evaluate forecasting procedures, and automatically flag forecasts for\n",
    "manual review and adjustment. Tools that help analysts to use their expertise most\n",
    "effectively enable reliable, practical forecasting of business time series."
   ]
  },
  {
   "cell_type": "markdown",
   "metadata": {},
   "source": [
    "# [GCP16] [Machine Learning with Financial Time Series Data](https://cloud.google.com/solutions/machine-learning-with-financial-time-series-data)\n",
    "* Predict & model SP500 closes based on markets that close earlier\n",
    "\n"
   ]
  },
  {
   "cell_type": "markdown",
   "metadata": {},
   "source": [
    "# [AS] Algorithm selection\n",
    "\n",
    "* [AS2]: [Which machine learning algorithm should I use?](https://blogs.sas.com/content/subconsciousmusings/2017/04/12/machine-learning-algorithm-use/)\n",
    "* [AS1]: [Choosing the right esimtator (scikit)](http://scikit-learn.org/stable/tutorial/machine_learning_map/index.html)"
   ]
  },
  {
   "cell_type": "markdown",
   "metadata": {},
   "source": [
    "# [RMLT17] [FINTECH: CAN MACHINE LEARNING BE APPLIED TO TRADING?](http://www.newsweek.com/business-technology-trading-684303)\n",
    "\n",
    "## Article Highlights\n",
    "### (Q-Learning) able to arbitrage known advantage\n",
    "### Overview\n",
    "Ritter explained: \"I was really trying to answer the question, does machine learning have any application to trading at all, or no application; sort of a binary question. Can machine learning be applied to the problem of trading?\n",
    "\n",
    "\"I reasoned that in a system that I know admits a profitable trading strategy, because I constructed it that way, can the machine find it. If the answer to that is no, then what chance would it have in the real world where you don't even necessarily know that a profitable strategy exists in the space you are looking at.\n",
    "\n",
    "\"So luckily the answer to that was yes. In the system where I knew there was a profitable opportunity, the machine did learn to find it. So that then allows for further study.\"\n",
    "\n",
    "A question on many people's lips when it comes to machine learning and AI-driven automation concerns the role that will be left for humans.\n",
    "\n",
    "### Human in the loop\n",
    "Ritter takes a sober view of this: \"I think it's important to know what human beings are good at and what they are not good at. So human beings are typically not good at knowing what their true costs are.\n",
    "\n",
    "\"For example, we all know that doing a large trade or a trade that's a large fraction of the volume can have an impact in the market; you'll move the price as a result of your trading. Well, how much?\n",
    "\n",
    "\"Humans are not really good at answering that question. That's a better question for a mathematical model. So we sometimes get asked the question, does this mean humans are done? I think the answer to that is definitely not.\n",
    "\n",
    "\"Humans are probably good at coming up with the idea for a new strategy. Take the technology in my paper, for example: where should we apply it? What should we apply it to? What should the signal that drives the trade be, if any?\n",
    "\n",
    "\"But humans are not good at interacting with the microstructure; humans are not good at looking at a bid and an offer and saying, I think if I execute this many basis points here's what my impact will be. That kind of decision should be left to a machine really.\"\n",
    "\n",
    "\n",
    "## [Paper](https://papers.ssrn.com/sol3/papers.cfm?abstract_id=3015609)\n",
    "\n",
    "### Abstract\n",
    "\n",
    "Abstract. In multi-period trading with realistic market impact, determining\n",
    "the dynamic trading strategy that optimizes expected utility\n",
    "of final wealth is a hard problem. In this paper we show that, with an\n",
    "appropriate choice of the reward function, reinforcement learning techniques\n",
    "(specifically, Q-learning) can successfully handle the risk-averse\n",
    "case. We provide a proof of concept in the form of a simulated market\n",
    "which permits a statistical arbitrage even with trading costs. The\n",
    "Q-learning agent finds and exploits this arbitrage.\n",
    "\n",
    "### Conclusion\n",
    "According to neoclassical finance theory, no investor should hold a portfolio\n",
    "(or follow a dynamic trading strategy) that does not maximize expected\n",
    "utility of final wealth, E[u(wT )]. The concave utility function u expresses the\n",
    "investor’s risk aversion, or preference for a less risky portfolio over a more\n",
    "risky one with the same expected return. Only a risk-neutral investor would\n",
    "maximize E[wT ]. The main contribution of this paper is that we show how\n",
    "to handle the risk-averse case in a model-free way using Q-learning. We provide\n",
    "a proof of concept in a controlled numerical simulation which permits\n",
    "an approximate arbitrage, and we verify that the Q-learning agent finds and\n",
    "exploits this arbitrage.\n",
    "It is instructive to consider how this differs from approaches such as\n",
    "Gˆarleanu and Pedersen (2013); to use their approach in practice requires\n",
    "three models: a model of expected returns, a risk model which forecasts\n",
    "the variance, and a (pre-trade) transaction cost model. The methods of\n",
    "Gˆarleanu and Pedersen (2013) provide an explicit solution only when the\n",
    "cost model is quadratic. By contrast, the methods of the present paper can,\n",
    "in principle, be applied without directly estimating any of these three models,\n",
    "or they can be applied in cases where one has an asset return model,\n",
    "but one wishes to use machine learning techniques to infer the cost function\n",
    "and the optimal strategy."
   ]
  },
  {
   "cell_type": "markdown",
   "metadata": {},
   "source": [
    "# [FTS17] [FINANCIAL TIME SERIES FORECASTING – A MACHINE LEARNING APPROACH](https://pdfs.semanticscholar.org/7955/af1f5b8226ff13f915bead877c181a2917dc.pdf)\n",
    "\n",
    "## Survey paper. Includes annotated bibliography\n",
    "* Statistical methods\n",
    "    * Regression: positive correlation between news to stock opens\n",
    "    * ARIMA: autoregressive integrated moving average\n",
    "* ML (80+% is possible)\n",
    "    * SVMs (more than NNs) successful at predicting price direction\n",
    "    * Text-based DTs\n",
    "    * RNNs and NEAT\n",
    "    * ANNs\n",
    "* Engineer ~70 custom features (indices, technical indicators, etc.)\n",
    "* Skelarn feature selection (SelectKBest)\n",
    "* Used these classifiers (~80%, better on longer timescales)\n",
    "    * **K-Nearest Neighbors**\n",
    "    * **Logistic Regression**\n",
    "    * Naive Bayes\n",
    "    * Support Vector Classifier (SVC)\n",
    "    * Decision Trees\n",
    "    * Random Forest\n",
    "    * Multi Layer Perceptron (MLP)\n",
    "    * Ada Boost\n",
    "    * QDA\n",
    "* These regression algorithms (.016 RMSE)\n",
    "    * Linear Regressor\n",
    "    * Support Vector Regressor\n",
    "    * Decision Tree Regressor\n",
    "    * Ada Boost Regressor\n",
    "    * Random Forest Regressor\n",
    "    * K-Nearest Neighbors\n",
    "    * Bagging Regressor\n"
   ]
  },
  {
   "cell_type": "markdown",
   "metadata": {},
   "source": [
    "# [NNAT17] [Neural networks for algorithmic trading: enhancing classic strategies](https://medium.com/machine-learning-world/neural-networks-for-algorithmic-trading-enhancing-classic-strategies-a517f43109bf)\n",
    "* Use NNs to improve EMA crossover signal quality"
   ]
  },
  {
   "cell_type": "markdown",
   "metadata": {},
   "source": [
    "# [LHIB] [The Inductive Biases of Various Machine Learning Algorithms](http://www.lauradhamilton.com/inductive-biases-various-machine-learning-algorithms)"
   ]
  },
  {
   "cell_type": "markdown",
   "metadata": {},
   "source": [
    "# [FSP17] [Financial Series Prediction: Comparison Between Precision of Time Series Models and Machine Learning Methods](https://arxiv.org/pdf/1706.00948.pdf)\n",
    "\n",
    "* TL;DR - SVMs outperform ARIMA (traditional time series model) and outperform DNNs\n",
    "\n",
    "## Abstract\n",
    "Investors collect information from trading market and make investing decision based on collected\n",
    "information, i.e. belief of future trend of security’s price. Therefore, several mainstream trend analysis\n",
    "methodology come into being and develop gradually. However, precise trend predicting has long been a\n",
    "difficult problem because of overwhelming market information. Although traditional time series models\n",
    "like ARIMA and GARCH have been researched and proved to be effective in predicting, their performances\n",
    "are still far from satisfying. Machine learning, as an emerging research field in recent years, has brought\n",
    "about many incredible improvements in tasks such as regressing and classifying, and it’s also promising\n",
    "to exploit the methodology in financial time series predicting. In this paper, the predicting precision of\n",
    "financial time series between traditional time series models ARIMA, and mainstream machine learning\n",
    "models including logistic regression, multiple-layer perceptron, support vector machine along with deep\n",
    "learning model denoising auto-encoder are compared through experiment on real data sets composed of\n",
    "three stock index data including Dow 30, S&P 500 and Nasdaq. The result show"
   ]
  },
  {
   "cell_type": "markdown",
   "metadata": {},
   "source": [
    "# [GitHub BenjiKCF/Neural-Network-with-Financial-Time-Series-Data](https://github.com/BenjiKCF/Neural-Network-with-Financial-Time-Series-Data)"
   ]
  },
  {
   "cell_type": "markdown",
   "metadata": {},
   "source": [
    "# Libraries for hyperparameter tuning\n",
    "* http://scikit-learn.org/stable/modules/grid_search.html#grid-search\n",
    "* https://github.com/EpistasisLab/tpot\n",
    "* https://github.com/automl/auto-sklearn"
   ]
  },
  {
   "cell_type": "markdown",
   "metadata": {},
   "source": [
    "# Libraries for feature selection\n",
    "\n",
    "* feature selection http://scikit-learn.org/stable/modules/feature_selection.html"
   ]
  },
  {
   "cell_type": "markdown",
   "metadata": {},
   "source": [
    "# [SPNS] [STOCK TREND PREDICTION USING NEWS SENTIMENT ANALYSIS](https://arxiv.org/pdf/1607.01958.pdf)\n",
    "\n",
    "* text mining\n",
    "* RF: 90%, SVM 86%, 83%\n",
    "* Optimized # of classes at ~5 (from prior research)\n",
    "\n",
    "Then after comparing their\n",
    "results, Random Forest worked very well for all test cases ranging from 88% to 92% accuracy.\n",
    "Accuracy followed by SVM is also considerable around 86%. Naive Bayes algorithm\n",
    "performance is around 83%"
   ]
  },
  {
   "cell_type": "markdown",
   "metadata": {},
   "source": [
    "# [Multivariate Time Series Forecasting of Crude Palm Oil Price Using Machine Learning Techniques](http://iopscience.iop.org/article/10.1088/1757-899X/226/1/012117/pdf)\n",
    "\n",
    "## Abstract\n",
    "The aim of this paper was to study the correlation between crude palm oil\n",
    "(CPO) price, selected vegetable oil prices (such as soybean oil, coconut oil, and olive\n",
    "oil, rapeseed oil and sunflower oil), crude oil and the monthly exchange rate.\n",
    "Comparative analysis was then performed on CPO price forecasting results using the\n",
    "machine learning techniques. Monthly CPO prices, selected vegetable oil prices, crude\n",
    "oil prices and monthly exchange rate data from January 1987 to February 2017 were\n",
    "utilized. Preliminary analysis showed a positive and high correlation between the CPO\n",
    "price and soy bean oil price and also between CPO price and crude oil price.\n",
    "Experiments were conducted using multi-layer perception, support vector regression\n",
    "and Holt Winter exponential smoothing techniques. The results were assessed by using\n",
    "criteria of root mean square error (RMSE), means absolute error (MAE), means\n",
    "absolute percentage error (MAPE) and Direction of accuracy (DA). Among these three\n",
    "techniques, support vector regression(SVR) with Sequential minimal optimization\n",
    "(SMO) algorithm showed relatively better results compared to multi-layer perceptron\n",
    "and Holt Winters exponential smoothing method. \n",
    "\n",
    "## Conclusions\n",
    "Support vector regression, multi-layer perceptron and Holt Winter exponential smoothing were\n",
    "utilized in this study to forecast the CPO price using multivariate time series. The prediction results\n",
    "exhibits that the support vector regression had higher predicted accuracy compared to multi-layer\n",
    "perceptron and Holt Winter exponential smoothing methods. In this study nine attributes were\n",
    "chosen and the results of this analysis showed the strength of support vector regression in\n",
    "forecasting multivariate time series of CPO price. In future, more relevant attributes could be included\n",
    "to improve forecasting of the CPO price. Feature selection method also can be added in future studies\n",
    "in order to improve accuracy of CPO price forecasting.\n",
    "\n"
   ]
  },
  {
   "cell_type": "markdown",
   "metadata": {},
   "source": [
    "# [Machine Learning Strategies for Time Series Forecasting](http://www.ulb.ac.be/di/map/gbonte/ftp/time_ser.pdf)\n",
    "\n",
    "## Slides\n",
    "\n",
    "time series [25].\n",
    "In the last two decades, machine learning models have drawn attention and\n",
    "have established themselves as serious contenders to classical statistical models\n",
    "in the forecasting community [1,43,61]. These models, also called black-box or\n",
    "data-driven models [40], are examples of nonparametric nonlinear models which\n",
    "use only historical data to learn the stochastic dependency between the past and\n",
    "the future. For instance, Werbos found that Artificial Neural Networks (ANNs)\n",
    "outperform the classical statistical methods such as linear regression and BoxJenkins\n",
    "approaches [59,60]. A similar study has been conducted by Lapedes and\n",
    "Farber [33] who conclude that ANNs can be successfully used for modeling and\n",
    "forecasting nonlinear time series. Later, other models appeared such as decision\n",
    "trees, support vector machines and nearest neighbor regression [29,3]. Moreover,\n",
    "the empirical accuracy of several machine learning models has been explored in a\n",
    "number of forecasting competitions under different data conditions (e.g. the NN3,\n",
    "NN5, and the annual ESTSP competitions [19,20,34,35]) creating interesting\n",
    "scientific debates in the area of data mining and forecasting [28,45,21].\n"
   ]
  },
  {
   "cell_type": "markdown",
   "metadata": {},
   "source": [
    "# [Time series prediction using SVMs: A Survey](https://pdfs.semanticscholar.org/4092/7c5d81988a1151639fad150cbc74f64e0d68.pdf)\n",
    "    "
   ]
  },
  {
   "cell_type": "markdown",
   "metadata": {},
   "source": [
    "# [FTML10] [Financial Time Series Forecasting with Machine Learning Techniques: A Survey](http://epublications.bond.edu.au/cgi/viewcontent.cgi?article=1113&context=infotech_pubs)\n",
    "\n",
    "## Abstract\n",
    "\n",
    "Stock index forecasting is vital for making informed investment decisions. This\n",
    "paper surveys recent literature in the domain of machine learning techniques and artificial\n",
    "intelligence used to forecast stock market movements. The publications are categorised\n",
    "according to the machine learning technique used, the forecasting timeframe, the input\n",
    "variables used, and the evaluation techniques employed. It is found that there is a consensus\n",
    "between researchers stressing the importance of stock index forecasting. *Artificial Neural\n",
    "Networks (ANNs)* are identified to be the dominant machine learning technique in this area.\n",
    "We conclude with possible future research directions\n",
    "\n",
    "### Time frame\n",
    "![methods](img/frame.png)\n",
    "\n",
    "### ML Algorithms\n",
    "![methods](img/techniques.png)\n",
    "\n",
    "### Model Inputs\n",
    "![methods](img/inputs.png)\n",
    "\n",
    "### Evaluation\n",
    "![methods](img/eval.png)\n",
    "\n",
    "\n",
    "## Conclusion\n",
    "\n",
    "Selecting the right input variables is very important for machine learning techniques.\n",
    "Even the best machine learning technique can only learn from an input if there is\n",
    "actually some kind of correlation between input and output variable.\n",
    " Table 3 shows that over 75% of the reviewed papers rely in some form on\n",
    "lagged index data. The most commonly used parameters are daily opening, high, low\n",
    "and close prices. Also used often are technical indicators which are mathematical\n",
    "transformations of lagged index data. The most common technical indicators found in\n",
    "the surveyed literature are the simple moving average (SMA), exponential moving\n",
    "average (EMA), relative strength index (RSI), rate of change (ROC), moving average\n",
    "convergence / divergence (MACD), William’s oscillator and average true range\n",
    "(ATR)"
   ]
  },
  {
   "cell_type": "markdown",
   "metadata": {},
   "source": [
    "# [SAN11] [CS224N Final Project: Sentiment analysis of news articles for financial signal prediction](https://nlp.stanford.edu/courses/cs224n/2011/reports/nccohen-aatreya-jameszjj.pdf)\n",
    "\n",
    "\n",
    "## Abstract\n",
    "Due to the volatility of the stock market,\n",
    "price fluctuations based on sentiment and news reports\n",
    "are common. Traders draw upon a wide variety of\n",
    "publicly-available information to inform their market\n",
    "decisions. For this project, we focused on the\n",
    "analysis of publicly-available news reports with the\n",
    "use of computers to provide advice to traders for\n",
    "stock trading. We developed Java data processing code\n",
    "and used the Stanford Classifier to quickly analyze\n",
    "financial news articles from The New York Times\n",
    "and predict sentiment in the articles. Two approaches\n",
    "were taken to produce sentiments for training and\n",
    "testing. A manual approach was tried using a human\n",
    "to read the articles and classifying the sentiment, and\n",
    "the automatic approach using market movements was\n",
    "used. These sentiments could be used to predict the\n",
    "daily market trend of the Standard & Poor’s 500 index\n",
    "or as inputs to a larger trading system\"\n",
    "\n",
    "## Conclusions\n",
    "\n",
    "\"This work has demonstrated the difficulty of\n",
    "extracting financially-relevant sentiment information\n",
    "from news sources and using it as a market\n",
    "predictor. While news articles remain a useful sort\n",
    "of information for determining overall market sentiment,\n",
    "they are often difficult to analyze and, since\n",
    "they are often focused on conveying nuanced information,\n",
    "may contain mixed messages. Furthermore,\n",
    "the success of this model relies largely upon the\n",
    "exploitation of market inefficiencies, which often\n",
    "take a great deal of work to identify if they are to\n",
    "be reliable.\n",
    "Thus, while our system provides interesting analysis\n",
    "of market sentiment in hindsight, it is less effective\n",
    "when used for predictive purposes. Nonetheless,\n",
    "given the coarse signals produced by our\n",
    "model, it is important to note that it is not necessary\n",
    "to trade directly using the values produced from\n",
    "our model. The sentiment results we produce could\n",
    "instead be an input to another trading system or\n",
    "simply be given to human traders to aid their\n",
    "judgments.\"\n",
    "\n",
    "\n",
    "## NYT Corpus at Google\n",
    "https://research.googleblog.com/2014/08/teaching-machines-to-read-between-lines.html"
   ]
  },
  {
   "cell_type": "markdown",
   "metadata": {},
   "source": [
    "# [ECML10] [An Empirical Comparison of Machine Learning Models for Time Series Forecasting](https://www.researchgate.net/profile/Nesreen_Ahmed3/publication/227612766_An_Empirical_Comparison_of_Machine_Learning_Models_for_Time_Series_Forecasting/links/00b7d526c47935d41b000000/An-Empirical-Comparison-of-Machine-Learning-Models-for-Time-Series-Forecasting.pdf)\n",
    "\n",
    "Includes valuable notes on preprocessing.\n",
    "\n",
    "## Abstract\n",
    "In this work we present a large scale comparison study for the major machine\n",
    "learning models for time series forecasting. Specifically, we apply the models on\n",
    "the monthly M3 time series competition data (around a thousand time series).\n",
    "There have been very few, if any, large scale comparison studies for machine\n",
    "learning models for the regression or the time series forecasting problems, so we\n",
    "hope this study would fill this gap. The models considered are multilayer perceptron,\n",
    "Bayesian neural networks, radial basis functions, generalized regression\n",
    "neural networks (also called kernel regression), K-nearest neighbor regression,\n",
    "CART regression trees, support vector regression, and Gaussian processes. The\n",
    "study reveals significant differences between the different methods. The best\n",
    "two methods turned out to be the multilayer perceptron and the Gaussian process\n",
    "regression. In addition to model comparisons, we have tested different\n",
    "preprocessing methods and have shown that they have different impacts on the\n",
    "performance\n",
    "\n",
    "## Conclusions (abbr.)\n",
    "The two best models turned out to be MLP (ANN) and GP (Gaussian Processes). This is an interesting result, as GP up until few years ago has not been a widely used or studied method. We believe that there is still room\n",
    "for improving GP in a way that may positively reflect on its performance"
   ]
  },
  {
   "cell_type": "markdown",
   "metadata": {},
   "source": [
    "# [A Comprehensive Review of Sentiment Analysis of Stocks](https://pdfs.semanticscholar.org/42b1/0e23482cd2a0dcbd4c9ac1295620d4c80be5.pdf)\n",
    "\n",
    "The algorithms, Naive Bayes and Support Vector Machine (SVM) are basic machine learning algorithms currently used however hybrid versions are upcoming"
   ]
  },
  {
   "cell_type": "markdown",
   "metadata": {},
   "source": [
    "#  [Time Series Forecasting as Supervised Learning](https://machinelearningmastery.com/time-series-forecasting-supervised-learning/)\n",
    "* Multivariate vs univariate\n",
    "* One-step vs multi-step forecast\n",
    "\n",
    "\n"
   ]
  },
  {
   "cell_type": "markdown",
   "metadata": {},
   "source": [
    "# [Application of Machine Learning Techniques to Trading]( https://medium.com/auquan/https-medium-com-auquan-machine-learning-techniques-trading-b7120cee4f05)\n",
    "\n",
    "``` \n",
    "DIRECTION: identify if an asset is cheap/expensive/fair value\n",
    "ENTRY TRADE: if an asset is cheap/expensive, should you buy/sell it\n",
    "EXIT TRADE: if an asset is fair priced and if we hold a position in that asset(bought or sold it earlier), should you exit that position\n",
    "PRICE RANGE: which price (or range) to make this trade at\n",
    "QUANTITY: Amount of capital to trade(example shares of a stock)\n",
    "```"
   ]
  },
  {
   "cell_type": "code",
   "execution_count": null,
   "metadata": {},
   "outputs": [],
   "source": []
  }
 ],
 "metadata": {
  "kernelspec": {
   "display_name": "Python 3",
   "language": "python",
   "name": "python3"
  },
  "language_info": {
   "codemirror_mode": {
    "name": "ipython",
    "version": 3
   },
   "file_extension": ".py",
   "mimetype": "text/x-python",
   "name": "python",
   "nbconvert_exporter": "python",
   "pygments_lexer": "ipython3",
   "version": "3.6.3"
  }
 },
 "nbformat": 4,
 "nbformat_minor": 2
}
